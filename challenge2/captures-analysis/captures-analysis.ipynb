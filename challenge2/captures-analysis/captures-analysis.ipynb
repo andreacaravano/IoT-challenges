{
 "cells": [
  {
   "metadata": {},
   "cell_type": "markdown",
   "source": [
    "# **Politecnico di Milano**\n",
    "## *Students: Caravano Andrea, Cantele Alberto*\n",
    "\n",
    "*A.Y.: 2024/2025*\n",
    "\n",
    "*Last modified: 05/04/2025*\n",
    "\n",
    "### Description: Internet of Things: Challenge n. 2 - Wireshark application-layer packet capture analysis (through Python)"
   ],
   "id": "31d4985a0b33221c"
  },
  {
   "metadata": {},
   "cell_type": "markdown",
   "source": "# Part 1",
   "id": "5d852c581f48588d"
  },
  {
   "metadata": {},
   "cell_type": "markdown",
   "source": "### Libraries and constants declaration",
   "id": "d38ee536bb3d7979"
  },
  {
   "metadata": {
    "ExecuteTime": {
     "end_time": "2025-04-05T12:17:31.301777Z",
     "start_time": "2025-04-05T12:17:31.230601Z"
    }
   },
   "cell_type": "code",
   "source": [
    "import pyshark  # A Python wrapper for tshark, a Wireshark packet capture parser\n",
    "import nest_asyncio  # see below\n",
    "import custom_functions  # custom-crafted helper functions, useful for solving one or more of the following questions\n",
    "\n",
    "# needed for PyShark, allows for asynchronous nested loops, as they are needed for packet analysis\n",
    "nest_asyncio.apply()"
   ],
   "id": "e16235be812ceadb",
   "outputs": [],
   "execution_count": 1
  },
  {
   "metadata": {
    "ExecuteTime": {
     "end_time": "2025-04-05T12:17:32.827554Z",
     "start_time": "2025-04-05T12:17:32.821104Z"
    }
   },
   "cell_type": "code",
   "source": [
    "#### COAP Constants declaration (codes and types scalar values) ####\n",
    "# Request methods or response codes\n",
    "COAP_GET_CODE = 1\n",
    "COAP_PUT_CODE = 3\n",
    "COAP_CLIENT_BAD_REQ_RESPONSE_CODE = 128  # The first client-side error response code\n",
    "COAP_SERVER_PROXY_NOT_SUPPORTED_CODE = 165  # The last server-side error response code\n",
    "\n",
    "# Message types\n",
    "COAP_CONFIRMABLE_TYPE = 0\n",
    "COAP_ACK_TYPE = 2\n",
    "\n",
    "#### MQTT Constants declaration (message types scalar values) ####\n",
    "# Message types\n",
    "MQTT_CONNECT = 1\n",
    "MQTT_PUBLISH = 3\n",
    "MQTT_SUBSCRIBE = 8\n",
    "\n",
    "#### PCAP FILE URI ####\n",
    "PCAP_URI = \"challenge2.pcapng\""
   ],
   "id": "809860f35b88bd61",
   "outputs": [],
   "execution_count": 2
  },
  {
   "metadata": {},
   "cell_type": "markdown",
   "source": [
    "## Question n. 1\n",
    "How many different Confirmable PUT requests obtained an unsuccessful response from the local CoAP server?"
   ],
   "id": "8f4ee0437c6ae459"
  },
  {
   "metadata": {
    "ExecuteTime": {
     "end_time": "2025-04-05T12:17:39.623479Z",
     "start_time": "2025-04-05T12:17:38.449701Z"
    }
   },
   "cell_type": "code",
   "source": [
    "# Filters CoAP CONfirmable PUT packets, directed to the local CoAP Server (localhost/loopback address)\n",
    "cap = pyshark.FileCapture(PCAP_URI,\n",
    "                          display_filter=\"coap and coap.type == {} and coap.code == {} and (ip.dst == 127.0.0.1 or ipv6.dst == ::1)\"\n",
    "                          .format(COAP_CONFIRMABLE_TYPE,\n",
    "                                  COAP_PUT_CODE))\n",
    "\n",
    "# Processing of packets\n",
    "tokens = set()  # A hash structure, carrying unique objects (no duplicates)\n",
    "malformed_packets = 0\n",
    "for packet in cap:\n",
    "    try:\n",
    "        # CoAP layer fields\n",
    "        coap_layer = packet.coap\n",
    "        token = coap_layer.token\n",
    "        # Unique identifiers (token) are stored for matching with corresponding responses\n",
    "        tokens.add(token)\n",
    "    except:\n",
    "        # A malformed packet has been found and computation needed to be stopped, counting it\n",
    "        malformed_packets += 1\n",
    "\n",
    "# Capture object is freed to allow easier usage of successive sub-computations\n",
    "cap.close()\n",
    "cap.clear()\n",
    "\n",
    "print(\"First sub-computation ended, found %d malformed packets.\" % malformed_packets)\n",
    "\n",
    "# Then, for each token corresponding to a CONfirmable PUT Request, checks for unsuccessful responses\n",
    "# Unsuccessful response code are considered to be both client and server side\n",
    "cap = pyshark.FileCapture(PCAP_URI,\n",
    "                          display_filter=\"coap and coap.type == {} and coap.code >= {} and coap.code <= {} and (ip.src == 127.0.0.1 or ipv6.src == ::1)\"\n",
    "                          .format(COAP_ACK_TYPE,\n",
    "                                  COAP_CLIENT_BAD_REQ_RESPONSE_CODE,\n",
    "                                  COAP_SERVER_PROXY_NOT_SUPPORTED_CODE))\n",
    "\n",
    "malformed_packets = 0\n",
    "matches = 0  # Final matches\n",
    "for packet in cap:\n",
    "    try:\n",
    "        # CoAP layer fields\n",
    "        coap_layer = packet.coap\n",
    "        token = coap_layer.token\n",
    "        # If currently analyzed token is present among the ones stored before, then it received an unsuccessful response and matches!\n",
    "        if token in tokens:\n",
    "            matches += 1\n",
    "    except:\n",
    "        # A malformed packet has been found and computation needed to be stopped, counting it\n",
    "        malformed_packets += 1\n",
    "\n",
    "# Capture object is freed to allow easier usage of successive sub-computations\n",
    "cap.close()\n",
    "cap.clear()\n",
    "\n",
    "print(\"Second sub-computation ended, found %d malformed packets.\" % malformed_packets)\n",
    "\n",
    "print(\"Computation ended! Question n. 1 has:\\n\\t\\t\\t%d matches\" % matches)"
   ],
   "id": "ffaa14f7864cada6",
   "outputs": [
    {
     "name": "stdout",
     "output_type": "stream",
     "text": [
      "First sub-computation ended, found 0 malformed packets.\n",
      "Second sub-computation ended, found 0 malformed packets.\n",
      "Computation ended! Question n. 1 has:\n",
      "\t\t\t22 matches\n"
     ]
    }
   ],
   "execution_count": 3
  },
  {
   "metadata": {},
   "cell_type": "markdown",
   "source": [
    "## Question n. 2\n",
    "How many CoAP resources in the coap.me public server received the same number of unique Confirmable and Non Confirmable GET requests?"
   ],
   "id": "4d09c510db8091fc"
  },
  {
   "metadata": {
    "ExecuteTime": {
     "end_time": "2025-04-05T12:17:44.466528Z",
     "start_time": "2025-04-05T12:17:43.453487Z"
    }
   },
   "cell_type": "code",
   "source": [
    "# coap.me is a symbolic name, that needs to be resolved using DNS\n",
    "coapme_addresses = custom_functions.get_addresses(\"coap.me\")\n",
    "\n",
    "# Assumption: the packet capture is complete up to the level of detail needed to reconstruct the traffic flow, including the DNS resolution of the public server address\n",
    "# The address therefore used to refer to the coap.me server has been symbolically resolved and the DNS answer is included in the packet capture\n",
    "assert len(coapme_addresses) >= 1\n",
    "# Another reasonable approach would involve resolving the symbolic name through a group of geographically distributed DNS servers\n",
    "# Note that this second approach would most often lead to incompleteness, as DNS resolution has no geographical and temporal standard bound, so it may be adapted to traffic congestion or many other external conditions\n",
    "# Relying on the resolution provided by the capture is therefore the best approach\n",
    "# Of course, to continue processing, the underlying assertion states that the amount of found address is greater (or equal) than 1\n",
    "\n",
    "# Filtering all GET requests, that will then be parsed selecting CONfirmable and NON-confirmable ones and counting them\n",
    "captures = pyshark.FileCapture(\n",
    "    PCAP_URI,\n",
    "    display_filter=\"coap.code == {}\"\n",
    "    .format(\n",
    "        COAP_GET_CODE\n",
    "    )\n",
    ")\n",
    "\n",
    "# Dictionaries, a hash map enabling a generic data structure as a key and/or value\n",
    "# In our case, the URI will be the key for all structures\n",
    "tokens_confirmable = {}\n",
    "tokens_nonconfirmable = {}\n",
    "confirmables = {}\n",
    "nonconfirmables = {}\n",
    "malformed_packets = 0\n",
    "for packet in captures:\n",
    "    try:\n",
    "        # Checks whether the packet under analysis is directed to one of the coap.me address received through DNS and parsed in the beginning\n",
    "        to_check = False\n",
    "        if hasattr(packet, 'ip') and packet.ip.dst in coapme_addresses:\n",
    "            to_check = True\n",
    "        if hasattr(packet, 'ipv6') and packet.ipv6.dst in coapme_addresses:\n",
    "            to_check = True\n",
    "        if to_check:\n",
    "            coap_layer = packet.coap\n",
    "            token = coap_layer.token\n",
    "            uri = coap_layer.opt_uri_path_recon\n",
    "            # Token and URIs are collected\n",
    "            # If the present request has the CON type, corresponding variables are used, otherwise the NON ones\n",
    "            if int(coap_layer.type) == COAP_CONFIRMABLE_TYPE:\n",
    "                # If the URI has not been seen before, we need to create the corresponding data structures\n",
    "                if uri not in tokens_confirmable.keys():\n",
    "                    tokens_confirmable[\n",
    "                        uri] = set()  # This set will store all tokens values that requested the URI used as key\n",
    "                    confirmables[\n",
    "                        uri] = 0  # This value will be incremented with the number of matching unique (CON) requests to the URI\n",
    "                # A new token has been detected and is added among the requests records\n",
    "                if token not in tokens_confirmable[uri]:\n",
    "                    tokens_confirmable[uri].add(token)\n",
    "                    confirmables[uri] += 1\n",
    "            else:\n",
    "                # If the URI has not been seen before, we need to create the corresponding data structures\n",
    "                if uri not in tokens_nonconfirmable.keys():\n",
    "                    tokens_nonconfirmable[\n",
    "                        uri] = set()  # This set will store all tokens values that requested the URI used as key\n",
    "                    nonconfirmables[\n",
    "                        uri] = 0  # This value will be incremented with the number of matching unique (NON) requests to the URI\n",
    "                # A new token has been detected and is added among the requests records\n",
    "                if token not in tokens_nonconfirmable[uri]:\n",
    "                    tokens_nonconfirmable[uri].add(token)\n",
    "                    nonconfirmables[uri] += 1\n",
    "    except:\n",
    "        # A malformed packet has been found and computation needed to be stopped, counting it\n",
    "        malformed_packets += 1\n",
    "\n",
    "# Assertion: at least one CONfirmable and NON-confirmable request have been found\n",
    "# Otherwise, no comparison would make sense for this query\n",
    "assert len(confirmables) >= 1\n",
    "assert len(nonconfirmables) >= 1\n",
    "\n",
    "print(\"First sub-computation ended, found %d malformed packets.\" % malformed_packets)\n",
    "\n",
    "matches = 0\n",
    "# The two sets are intersected: only URIs appearing in both lists are useful for a comparison (of course, in the other cases, there would be a disparity among the two)\n",
    "resources_endpoints = set(confirmables.keys()).intersection(set(nonconfirmables.keys()))\n",
    "for resource in resources_endpoints:\n",
    "    if confirmables[resource] == nonconfirmables[resource]:\n",
    "        matches += 1\n",
    "\n",
    "# Capture object is freed to allow easier usage of successive sub-computations\n",
    "captures.close()\n",
    "captures.clear()\n",
    "\n",
    "print(\"Computation ended! Question n. 2 has:\\n\\t\\t\\t%d matches\" % matches)"
   ],
   "id": "635812ffdcf7cba4",
   "outputs": [
    {
     "name": "stdout",
     "output_type": "stream",
     "text": [
      "First sub-computation ended, found 0 malformed packets.\n",
      "Computation ended! Question n. 2 has:\n",
      "\t\t\t3 matches\n"
     ]
    }
   ],
   "execution_count": 4
  },
  {
   "metadata": {},
   "cell_type": "markdown",
   "source": [
    "## Question n. 3\n",
    "How many different MQTT clients subscribe to the public broker HiveMQ using multi-level wildcards?"
   ],
   "id": "9e988cb77fb99966"
  },
  {
   "metadata": {
    "ExecuteTime": {
     "end_time": "2025-04-05T12:18:02.504695Z",
     "start_time": "2025-04-05T12:17:47.819149Z"
    }
   },
   "cell_type": "code",
   "source": [
    "# broker.hivemq.com is a symbolic name, that needs to be resolved using DNS\n",
    "hivemq_addresses = custom_functions.get_addresses(\"broker.hivemq.com\")\n",
    "\n",
    "# Assumption: the packet capture is complete up to the level of detail needed to reconstruct the traffic flow, including the DNS resolution of the public server address\n",
    "# The address therefore used to refer to the broker.hivemq.com broker has been symbolically resolved and the DNS answer is included in the packet capture\n",
    "assert len(hivemq_addresses) >= 1\n",
    "# See above for more in-depth discussion\n",
    "\n",
    "# Filters MQTT Subscribe packets having an interest declaration (topic) matching the regular expression (.*)# for multi-level wildcards\n",
    "# Composed by a Kleene star and a # (wildcard), meaning it will match every string ending in #\n",
    "# This, in fact, is the only valid position of the wildcard\n",
    "# The case in which the wildcard is found inside the string (#) and then any character follows (.+), meaning more than one character, is rejected\n",
    "# Note that this is not equivalent to \"mqtt.topic contains \"#\"\", as it will match every string containing a wildcard, also in the middle of the string (that still, violates the protocol).\n",
    "# If we can assume that the protocol is never violated by any packet, then the results found are the same.\n",
    "captures = pyshark.FileCapture(\n",
    "    PCAP_URI,\n",
    "    display_filter=\"mqtt and mqtt.msgtype == {} and mqtt.topic matches \\\".*#\\\" and !mqtt.topic matches \\\"#.+\\\"\"\n",
    "    .format(\n",
    "        MQTT_SUBSCRIBE\n",
    "    )\n",
    ")\n",
    "\n",
    "# Let's store unique client ids declaring interest in a topic having a wildcard\n",
    "clientids = []\n",
    "malformed_packets = 0\n",
    "for packet in captures:\n",
    "    try:\n",
    "        # First, symmetrically to before, let's check whether the Subscribe message is in fact directed to HiveMQ\n",
    "        to_check = False\n",
    "        if hasattr(packet, 'ip') and packet.ip.dst in hivemq_addresses:\n",
    "            to_check = True\n",
    "        if hasattr(packet, 'ipv6') and packet.ipv6.dst in hivemq_addresses:\n",
    "            to_check = True\n",
    "        # If it is, we need to determine its client id (to, therefore, determine if the client currently under analysis is unique)\n",
    "        if to_check:\n",
    "            # A custom function is invoked (see detailed explanation in the custom_function file)\n",
    "            clientid = custom_functions.search_clientid(packet)\n",
    "            # Since we are grouping on a single broker, the client id is definitely unique for a single session, but that may be empty, so we need to couple it with the socket definition from the client, defining therefore a unique couple\n",
    "            socket_details = custom_functions.get_socket_details(packet)\n",
    "            coupled_id = [clientid, socket_details]\n",
    "            if coupled_id not in clientids:\n",
    "                # The resulting client id is always added to the set, but since the set structure can only carry unique objects, it will be added only once\n",
    "                clientids.append(coupled_id)\n",
    "    except:\n",
    "        # A malformed packet has been found and computation needed to be stopped, counting it\n",
    "        malformed_packets += 1\n",
    "\n",
    "print(\"First sub-computation ended, found %d malformed packets.\" % malformed_packets)\n",
    "\n",
    "# Capture object is freed to allow easier usage of successive sub-computations\n",
    "captures.close()\n",
    "captures.clear()\n",
    "\n",
    "print(\"Computation ended! Question n. 3 has:\\n\\t\\t\\t%d matches\" % len(clientids))"
   ],
   "id": "1261577a1d5d352a",
   "outputs": [
    {
     "name": "stdout",
     "output_type": "stream",
     "text": [
      "First sub-computation ended, found 0 malformed packets.\n",
      "Computation ended! Question n. 3 has:\n",
      "\t\t\t4 matches\n"
     ]
    }
   ],
   "execution_count": 5
  },
  {
   "metadata": {},
   "cell_type": "markdown",
   "source": [
    "## Question n. 4\n",
    "How many different MQTT clients specify a last Will Message to be directed to a topic having as first level \"university\"?"
   ],
   "id": "f4918616a0799e8f"
  },
  {
   "metadata": {
    "ExecuteTime": {
     "end_time": "2025-04-05T12:18:11.766647Z",
     "start_time": "2025-04-05T12:18:08.938023Z"
    }
   },
   "cell_type": "code",
   "source": [
    "# Filters MQTT Connect packets having the connection will flag set to True (declaring interest in providing a Last Will message)\n",
    "# Among those, we are interested in the ones having as a destination topic \"university\" at the first level\n",
    "# Matching can be implemented, again, using a regular expression:\n",
    "# ^ indicates the beginning of the string to match, then \"university\" must appear at the first level, so at the beginning\n",
    "# Then, anything can appear (even no more levels, actually): that means a Kleene star and a closing sign ($) can be used\n",
    "captures = pyshark.FileCapture(\n",
    "    PCAP_URI,\n",
    "    display_filter=\"mqtt and mqtt.msgtype == {} and mqtt.conflag.willflag == True and mqtt.willtopic matches \\\"^university.*$\\\"\"\n",
    "    .format(\n",
    "        MQTT_CONNECT\n",
    "    )\n",
    ")\n",
    "\n",
    "# Let's store unique client ids specifying a last will message with a destination topic having \"university\" as a first level\n",
    "clientids = []\n",
    "malformed_packets = 0\n",
    "for packet in captures:\n",
    "    try:\n",
    "        # A matching CONNECT ACK is searched for, meaning the connection was successful, and we can proceed univocally identifying each client\n",
    "        if not custom_functions.check_connect_ack(packet):\n",
    "            continue\n",
    "        # As before, the client id is derived from the CONNECT packet\n",
    "        clientid = packet.mqtt.clientid\n",
    "        # Since we are grouping on different brokers, the client id may be not unique, so we need to couple it with the socket definition from the client, defining therefore a unique couple\n",
    "        socket_details = custom_functions.get_socket_details(packet)\n",
    "        coupled_id = [clientid, socket_details]\n",
    "        if coupled_id not in clientids:\n",
    "            clientids.append(coupled_id)\n",
    "    except:\n",
    "        # A malformed packet has been found and computation needed to be stopped, counting it\n",
    "        malformed_packets += 1\n",
    "\n",
    "print(\"First sub-computation ended, found %d malformed packets.\" % malformed_packets)\n",
    "\n",
    "# Capture object is freed to allow easier usage of successive sub-computations\n",
    "captures.close()\n",
    "captures.clear()\n",
    "\n",
    "print(\"Computation ended! Question n. 4 has:\\n\\t\\t\\t%d matches\" % len(clientids))"
   ],
   "id": "4f513151ed833050",
   "outputs": [
    {
     "name": "stdout",
     "output_type": "stream",
     "text": [
      "First sub-computation ended, found 0 malformed packets.\n",
      "Computation ended! Question n. 4 has:\n",
      "\t\t\t1 matches\n"
     ]
    }
   ],
   "execution_count": 6
  },
  {
   "metadata": {},
   "cell_type": "markdown",
   "source": [
    "## Question n. 5\n",
    "How many MQTT subscribers receive a last will message derived from a subscription without a wildcard?"
   ],
   "id": "88655cfca27629aa"
  },
  {
   "metadata": {
    "ExecuteTime": {
     "end_time": "2025-04-05T12:18:47.188959Z",
     "start_time": "2025-04-05T12:18:18.210696Z"
    }
   },
   "cell_type": "code",
   "source": [
    "# Filters MQTT Connect packets carrying a last will message (as done before, but without a specific topic bound)\n",
    "cap = pyshark.FileCapture(\n",
    "    PCAP_URI,\n",
    "    display_filter=\"mqtt and mqtt.msgtype == {} and mqtt.conflag.willflag == True\"\n",
    "    .format(\n",
    "        MQTT_CONNECT\n",
    "    )\n",
    ")\n",
    "\n",
    "# All relevant details about the last will messages are stored:\n",
    "# This includes: topic, message content and frame number (position in the packet capture, it will be useful later)\n",
    "will_messages = []\n",
    "for packet in cap:\n",
    "    try:\n",
    "        # A matching CONNECT ACK is searched for, meaning the connection was successful, and we can proceed storing the last will message, having been captured already by the broker\n",
    "        if not custom_functions.check_connect_ack(packet):\n",
    "            continue\n",
    "        will_topic = packet.mqtt.willtopic\n",
    "        will_message = packet.mqtt.willmsg\n",
    "        frame_number = int(packet.frame_info.number)\n",
    "        # When the relevant details have been gathered, they are stored in a triple, in a list data structure\n",
    "        will_messages.append([will_topic, will_message, frame_number])\n",
    "    except:\n",
    "        # A malformed packet has been found and computation needed to be stopped, counting it\n",
    "        malformed_packets += 1\n",
    "\n",
    "print(\"First sub-computation ended, found %d malformed packets.\" % malformed_packets)\n",
    "\n",
    "# Capture object is freed to allow easier usage of successive sub-computations\n",
    "cap.close()\n",
    "cap.clear()\n",
    "\n",
    "# Now, we are interested in capturing all publish messages\n",
    "# The last will message, in fact, will be sent to interested clients just like a normal publish message!\n",
    "# The only meaningful difference is that this\n",
    "cap = pyshark.FileCapture(\n",
    "    PCAP_URI,\n",
    "    display_filter=\"mqtt and mqtt.msgtype == {}\"\n",
    "    .format(MQTT_PUBLISH)\n",
    ")\n",
    "\n",
    "# Each sub-list is split in three temporary-separated ones, to allow for easier matching\n",
    "will_topic_list = list(msg[0] for msg in will_messages)\n",
    "will_message_list = list(msg[1] for msg in will_messages)\n",
    "will_frame_number_list = list(msg[2] for msg in will_messages)\n",
    "matches = 0\n",
    "malformed_packets = 0\n",
    "for packet in cap:\n",
    "    try:\n",
    "        topic = packet.mqtt.topic\n",
    "        message = packet.mqtt.msg\n",
    "        frame_number = int(packet.frame_info.number)\n",
    "        index = -1\n",
    "        # For each publish message found, the content is checked with respect to the last will messages collected at the beginning\n",
    "        try:\n",
    "            index = will_message_list.index(message)\n",
    "        except:\n",
    "            continue\n",
    "        # Then, the topic has to match and the frame number has to be a strict successor of the last will one\n",
    "        # (of course, as it would be impossible to publish a message that anyone never gave the broker)\n",
    "        if will_topic_list[index] == topic and frame_number > will_frame_number_list[index]:\n",
    "            # Then the message derives from a last will message\n",
    "            # Returns a set containing all topics to which the client declared interest in\n",
    "            subscriptions = custom_functions.compute_subscriptions(packet, will_frame_number_list[index])\n",
    "            # Then, for each subscription derived, it is checked for matching upon the original topic used in the last will message\n",
    "            for sub in subscriptions:\n",
    "                # If topic matches and the message does not have a single-level wildcard in the middle of the string or a multi-level wildcard at the end (assuming, in this case, compliance with MQTT subscription rules)\n",
    "                if (custom_functions.mqtt_topic_matches(will_topic_list[index], sub)\n",
    "                        and not sub.endswith('#') and not '+' in sub):\n",
    "                    matches += 1\n",
    "    except:\n",
    "        # A malformed packet has been found and computation needed to be stopped, counting it\n",
    "        malformed_packets += 1\n",
    "\n",
    "print(\"Second sub-computation ended, found %d malformed packets.\" % malformed_packets)\n",
    "\n",
    "# Capture object is freed to allow easier usage of successive sub-computations\n",
    "cap.close()\n",
    "cap.clear()\n",
    "\n",
    "print(\"Computation ended! Question n. 5 has:\\n\\t\\t\\t%d matches\" % matches)"
   ],
   "id": "3847cf6c9df53bcc",
   "outputs": [
    {
     "name": "stdout",
     "output_type": "stream",
     "text": [
      "First sub-computation ended, found 0 malformed packets.\n",
      "Second sub-computation ended, found 0 malformed packets.\n",
      "Computation ended! Question n. 5 has:\n",
      "\t\t\t3 matches\n"
     ]
    }
   ],
   "execution_count": 7
  },
  {
   "metadata": {},
   "cell_type": "markdown",
   "source": [
    "## Question n. 6\n",
    "How many MQTT publish messages directed to the public broker mosquitto are sent with the retain option and use QoS “At most once”?"
   ],
   "id": "45c2f09c223285ab"
  },
  {
   "metadata": {
    "ExecuteTime": {
     "end_time": "2025-04-05T12:18:55.083406Z",
     "start_time": "2025-04-05T12:18:52.275898Z"
    }
   },
   "cell_type": "code",
   "source": [
    "# test.mosquitto.org is a symbolic name, that needs to be resolved using DNS\n",
    "mosquitto_addresses = custom_functions.get_addresses(\"test.mosquitto.org\")\n",
    "\n",
    "# Assumption: the packet capture is complete up to the level of detail needed to reconstruct the traffic flow, including the DNS resolution of the public server address\n",
    "# The address therefore used to refer to the test.mosquitto.org broker has been symbolically resolved and the DNS answer is included in the packet capture\n",
    "assert len(mosquitto_addresses) >= 1\n",
    "# See above for more in-depth discussion\n",
    "\n",
    "# Filters MQTT Publish messages having the Retain option set to True and a QoS level set to 0\n",
    "# That is, \"best effort\" case: at most once delivery guarantee\n",
    "QOS_LEVEL = 0\n",
    "captures = pyshark.FileCapture(\n",
    "    PCAP_URI,\n",
    "    display_filter=\"mqtt and mqtt.msgtype == {} and mqtt.retain == True and mqtt.qos == {}\"\n",
    "    .format(\n",
    "        MQTT_PUBLISH,\n",
    "        QOS_LEVEL\n",
    "    )\n",
    ")\n",
    "\n",
    "# All packets having the requested characteristics have already been selected\n",
    "# Now, we only need to match with the set of Mosquitto broker addresses received through DNS resolution\n",
    "matches = 0\n",
    "for packet in captures:\n",
    "    try:\n",
    "        to_check = False\n",
    "        if hasattr(packet, 'ip') and packet.ip.dst in mosquitto_addresses:\n",
    "            to_check = True\n",
    "        if hasattr(packet, 'ipv6') and packet.ipv6.dst in mosquitto_addresses:\n",
    "            to_check = True\n",
    "        if to_check:\n",
    "            matches += 1\n",
    "    except:\n",
    "        # A malformed packet has been found and computation needed to be stopped, counting it\n",
    "        malformed_packets += 1\n",
    "\n",
    "print(\"First sub-computation ended, found %d malformed packets.\" % malformed_packets)\n",
    "\n",
    "# Capture object is freed to allow easier usage of successive sub-computations\n",
    "captures.close()\n",
    "captures.clear()\n",
    "\n",
    "print(\"Computation ended! Question n. 6 has:\\n\\t\\t\\t%d matches\" % matches)"
   ],
   "id": "479a6ac3b3bc5a22",
   "outputs": [
    {
     "name": "stdout",
     "output_type": "stream",
     "text": [
      "First sub-computation ended, found 0 malformed packets.\n",
      "Computation ended! Question n. 6 has:\n",
      "\t\t\t208 matches\n"
     ]
    }
   ],
   "execution_count": 8
  },
  {
   "metadata": {},
   "cell_type": "markdown",
   "source": [
    "## Question n. 7\n",
    "How many MQTT-SN messages on port 1885 are sent by the clients to a broker in the local machine?"
   ],
   "id": "7b6ce68e3661f52f"
  },
  {
   "metadata": {
    "ExecuteTime": {
     "end_time": "2025-04-05T12:18:59.744437Z",
     "start_time": "2025-04-05T12:18:58.907540Z"
    }
   },
   "cell_type": "code",
   "source": [
    "# In PyShark, there is no explicit option to remap a specific port to a different protocol other than the standard one\n",
    "# We can, however, exploit the power of Wireshark filters to explicitly request decoding UDP packets directed to port 1885 being MQTT-SN packets\n",
    "# This would include ICMP packets, used in this context for signalling procedures, so they are explicitly excluded\n",
    "cap = pyshark.FileCapture(\n",
    "    PCAP_URI,\n",
    "    display_filter=\"udp and udp.dstport == 1885 and (ip.dst == 127.0.0.1 or ipv6.dst == ::1) and !icmp\",\n",
    "    # Map and decode MQTT-SN traffic to UDP destination port 1885\n",
    "    decode_as={\n",
    "        'udp.port==1885': 'mqttsn'\n",
    "    }\n",
    ")\n",
    "\n",
    "# Matching packets will now contain an MQTT-SN layer!\n",
    "matches = 0\n",
    "for packet in cap:\n",
    "    try:\n",
    "        if hasattr(packet, 'mqttsn'):\n",
    "            matches += 1\n",
    "    except:\n",
    "        # A malformed packet has been found and computation needed to be stopped, counting it\n",
    "        malformed_packets += 1\n",
    "\n",
    "print(\"First sub-computation ended, found %d malformed packets.\" % malformed_packets)\n",
    "\n",
    "# Capture object is freed to allow easier usage of successive sub-computations\n",
    "cap.close()\n",
    "cap.clear()\n",
    "\n",
    "print(\"Computation ended! Question n. 7 has:\\n\\t\\t\\t%d matches\" % matches)"
   ],
   "id": "31ee385170121240",
   "outputs": [
    {
     "name": "stdout",
     "output_type": "stream",
     "text": [
      "First sub-computation ended, found 0 malformed packets.\n",
      "Computation ended! Question n. 7 has:\n",
      "\t\t\t0 matches\n"
     ]
    }
   ],
   "execution_count": 9
  }
 ],
 "metadata": {
  "kernelspec": {
   "display_name": "Python 3",
   "language": "python",
   "name": "python3"
  },
  "language_info": {
   "codemirror_mode": {
    "name": "ipython",
    "version": 2
   },
   "file_extension": ".py",
   "mimetype": "text/x-python",
   "name": "python",
   "nbconvert_exporter": "python",
   "pygments_lexer": "ipython2",
   "version": "2.7.6"
  }
 },
 "nbformat": 4,
 "nbformat_minor": 5
}
