{
 "cells": [
  {
   "metadata": {},
   "cell_type": "markdown",
   "source": [
    "# Politecnico di Milano\n",
    "## Students: Caravano Andrea, Cantele Alberto\n",
    "A.Y.: 2024-2025\n",
    "\n",
    "Last modified: 05/04/2025\n",
    "### Description: Internet of Things: Challenge n. 2 - Theoretical Exercise: Solution sketch"
   ],
   "id": "2ef64db60519b96"
  },
  {
   "metadata": {},
   "cell_type": "markdown",
   "source": "## Preliminary declaration",
   "id": "2a717980d2e36a3f"
  },
  {
   "metadata": {
    "ExecuteTime": {
     "end_time": "2025-04-05T11:22:10.839659Z",
     "start_time": "2025-04-05T11:22:10.818857Z"
    }
   },
   "cell_type": "code",
   "source": [
    "# Constants definition\n",
    "GET_Request = 60 * 8 # Bits\n",
    "GET_Response = 55 * 8 # Bits\n",
    "SUBSCRIBE = 58 * 8 # Bits\n",
    "SUBSCRIBE_ACK = 52 * 8 # Bits\n",
    "PUBLISH = 68 * 8 # Bits\n",
    "CONNECT = 54 * 8 # Bits\n",
    "CONNECT_ACK = 47 * 8 # Bits\n",
    "PING_REQUEST = 52 * 8 # Bits\n",
    "PING_RESPONSE = 48 * 8 # Bits\n",
    "Sensor_Minutes_Per_Cycle = 5 # Minutes\n",
    "Valve_Minutes_Per_Cycle = 30 # Minutes\n",
    "HOURS_PER_DAY = 24 # Hours\n",
    "MINUTES_PER_HOUR = 60 # Minutes\n",
    "E_TX = 50 * 10 ** (-9) # joule\n",
    "E_RX = 58 * 10 ** (-9) # joule\n",
    "E_Valve_Average_Computation= 2.4 * 10 ** (-3) # joule"
   ],
   "id": "751eec5607600c4f",
   "outputs": [],
   "execution_count": 1
  },
  {
   "metadata": {
    "ExecuteTime": {
     "end_time": "2025-04-05T11:22:10.852976Z",
     "start_time": "2025-04-05T11:22:10.848148Z"
    }
   },
   "cell_type": "code",
   "source": [
    "# Preliminary computations\n",
    "# Sensor:\n",
    "Sensor_Cycles_Per_Hour = MINUTES_PER_HOUR / Sensor_Minutes_Per_Cycle # Cycles\n",
    "Sensor_Cycles_Per_Day = Sensor_Cycles_Per_Hour * HOURS_PER_DAY # Cycles\n",
    "\n",
    "# Valve:\n",
    "Valve_Cycles_Per_Hour = MINUTES_PER_HOUR / Valve_Minutes_Per_Cycle # Cycles\n",
    "Valve_Cycles_Per_Day = Valve_Cycles_Per_Hour * HOURS_PER_DAY # Cycles\n",
    "E_Average_Computation = E_Valve_Average_Computation * Valve_Cycles_Per_Day"
   ],
   "id": "df516a4d79636902",
   "outputs": [],
   "execution_count": 2
  },
  {
   "metadata": {},
   "cell_type": "markdown",
   "source": "## CoAP Energy Consumption",
   "id": "e059eec10c5e7997"
  },
  {
   "metadata": {
    "ExecuteTime": {
     "end_time": "2025-04-05T11:22:10.991615Z",
     "start_time": "2025-04-05T11:22:10.987989Z"
    }
   },
   "cell_type": "code",
   "source": [
    "# Common energy computation for CoAP\n",
    "E_GetRequest_TX = GET_Request * E_TX\n",
    "E_GetRequest_RX = GET_Response * E_RX\n",
    "E_Sensor_GetResponse_TX = (GET_Response * E_TX) * Sensor_Cycles_Per_Day\n",
    "E_Sensor_GetResponse_RX = (GET_Response * E_RX) * Sensor_Cycles_Per_Day"
   ],
   "id": "54c699bd7f8f98b",
   "outputs": [],
   "execution_count": 3
  },
  {
   "metadata": {
    "ExecuteTime": {
     "end_time": "2025-04-05T11:22:11.015589Z",
     "start_time": "2025-04-05T11:22:11.012709Z"
    }
   },
   "cell_type": "code",
   "source": [
    "# CoAP energy computations: assuming observe pattern as available\n",
    "# Temperature Sensor sequence: GETReq with observe -> GETResp -> GETResp... until all cycles in a day are executed\n",
    "E_Sensor = E_GetRequest_RX + E_Sensor_GetResponse_TX # Joule\n",
    "\n",
    "# Valve sequence: GETReq with observe -> GETResp -> GETResp... until all cycle in a day are executed\n",
    "# and every 30-min compute average\n",
    "E_Valve = E_GetRequest_TX + E_Sensor_GetResponse_RX + E_Average_Computation # Joule\n",
    "\n",
    "# Total energy consumption\n",
    "E_tot = E_Sensor + E_Valve # Joule"
   ],
   "id": "cd189835d82e4001",
   "outputs": [],
   "execution_count": 4
  },
  {
   "metadata": {
    "ExecuteTime": {
     "end_time": "2025-04-05T11:22:11.035933Z",
     "start_time": "2025-04-05T11:22:11.032582Z"
    }
   },
   "cell_type": "code",
   "source": [
    "# Results\n",
    "print(\"E_Sensor: %.3f mJ\" % (E_Sensor * 10 ** 3))\n",
    "print(\"E_Valve: %.3f mJ\" % (E_Valve * 10 ** 3))\n",
    "print(\"E_tot: %.3f mJ\" % (E_tot * 10 ** 3))"
   ],
   "id": "f30469279094bafc",
   "outputs": [
    {
     "name": "stdout",
     "output_type": "stream",
     "text": [
      "E_Sensor: 6.362 mJ\n",
      "E_Valve: 122.574 mJ\n",
      "E_tot: 128.935 mJ\n"
     ]
    }
   ],
   "execution_count": 5
  },
  {
   "metadata": {},
   "cell_type": "markdown",
   "source": "### Optimization proposals",
   "id": "f865a4716d2315e8"
  },
  {
   "metadata": {},
   "cell_type": "markdown",
   "source": [
    "1° optimization proposal:\n",
    "\n",
    "Reduce time boundaries: a new temperature measurement is sent every 15 minutes and average is computed every 45 minutes"
   ],
   "id": "81ae9dde73c5f0a4"
  },
  {
   "metadata": {
    "ExecuteTime": {
     "end_time": "2025-04-05T11:22:11.061994Z",
     "start_time": "2025-04-05T11:22:11.057837Z"
    }
   },
   "cell_type": "code",
   "source": [
    "# Time boundaries optimization\n",
    "Valve_Cycles_Optimized = (MINUTES_PER_HOUR / 45.0) * HOURS_PER_DAY\n",
    "Sensor_Cycles_Optimized = (MINUTES_PER_HOUR / 15.0) * HOURS_PER_DAY"
   ],
   "id": "c1bd9b2c60c5e6a9",
   "outputs": [],
   "execution_count": 6
  },
  {
   "metadata": {
    "ExecuteTime": {
     "end_time": "2025-04-05T11:22:11.089080Z",
     "start_time": "2025-04-05T11:22:11.083955Z"
    }
   },
   "cell_type": "code",
   "source": [
    "# Energy computation\n",
    "E_Sensor = GET_Request * E_RX + (GET_Response * E_TX) * Sensor_Cycles_Optimized # Joule\n",
    "E_Valve = GET_Request * E_TX + (GET_Response * E_RX) * Sensor_Cycles_Optimized + E_Valve_Average_Computation * Valve_Cycles_Optimized # Joule\n",
    "E_tot = E_Sensor + E_Valve # Joule\n",
    "\n",
    "# Print final results\n",
    "print(\"E_Sensor: %.3f mJ\" % (E_Sensor * 10 ** 3))\n",
    "print(\"E_Valve: %.3f mJ\" % (E_Valve * 10 ** 3))\n",
    "print(\"E_tot: %.3f mJ\" % (E_tot * 10 ** 3))"
   ],
   "id": "fd6514a715107acc",
   "outputs": [
    {
     "name": "stdout",
     "output_type": "stream",
     "text": [
      "E_Sensor: 2.140 mJ\n",
      "E_Valve: 79.274 mJ\n",
      "E_tot: 81.414 mJ\n"
     ]
    }
   ],
   "execution_count": 7
  },
  {
   "metadata": {},
   "cell_type": "markdown",
   "source": [
    "2° optimization proposal:\n",
    "\n",
    "Move the average calculation to the sensor so that only one message is sent every 30 minutes, instead of a block or multiple separate messages.\n",
    "\n",
    "Assumption: the average computation on the sensor consumes the same amount of energy consumed on the valve."
   ],
   "id": "bab28622e6af1ece"
  },
  {
   "metadata": {
    "ExecuteTime": {
     "end_time": "2025-04-05T11:22:11.121913Z",
     "start_time": "2025-04-05T11:22:11.116181Z"
    }
   },
   "cell_type": "code",
   "source": [
    "# Energy computation\n",
    "E_Sensor = GET_Request * E_RX + (GET_Response * E_TX) * Valve_Cycles_Per_Day + E_Average_Computation # Joule\n",
    "E_Valve = GET_Request * E_TX + (GET_Response * E_RX) * Valve_Cycles_Per_Day # Joule\n",
    "E_tot = E_Sensor + E_Valve # Joule\n",
    "\n",
    "# Print final results\n",
    "print(\"E_Sensor: %.3f mJ\" % (E_Sensor * 10 ** 3))\n",
    "print(\"E_Valve: %.3f mJ\" % (E_Valve * 10 ** 3))\n",
    "print(\"E_tot: %.3f mJ\" % (E_tot * 10 ** 3))"
   ],
   "id": "5d5e6252f4380166",
   "outputs": [
    {
     "name": "stdout",
     "output_type": "stream",
     "text": [
      "E_Sensor: 116.284 mJ\n",
      "E_Valve: 1.249 mJ\n",
      "E_tot: 117.533 mJ\n"
     ]
    }
   ],
   "execution_count": 8
  },
  {
   "metadata": {},
   "cell_type": "markdown",
   "source": "## MQTT Energy Consumption",
   "id": "9dc313c50c69f554"
  },
  {
   "metadata": {
    "ExecuteTime": {
     "end_time": "2025-04-05T11:22:11.150723Z",
     "start_time": "2025-04-05T11:22:11.146045Z"
    }
   },
   "cell_type": "code",
   "source": [
    "# Common energy computation constants for MQTT\n",
    "E_Connect_TX = CONNECT * E_TX\n",
    "E_ConnectACK_RX = CONNECT_ACK * E_RX\n",
    "E_Connection_Sequence = E_Connect_TX + E_ConnectACK_RX\n",
    "\n",
    "E_Sensor_Publish_TX = (PUBLISH * E_TX) * Sensor_Cycles_Per_Day\n",
    "E_Sensor_Publish_RX = (PUBLISH * E_RX) * Sensor_Cycles_Per_Day\n",
    "E_Subscribe_TX = SUBSCRIBE * E_TX\n",
    "E_SubscribeACK_RX = SUBSCRIBE_ACK * E_RX\n",
    "\n",
    "# Assume that keep alive (pair of PING REQUEST and PING RESPONSE) is performed every minute\n",
    "KeepAlive_Cycles_Per_Day = HOURS_PER_DAY * MINUTES_PER_HOUR\n",
    "E_KeepAlive = (PING_REQUEST * E_TX + PING_RESPONSE * E_RX) * KeepAlive_Cycles_Per_Day"
   ],
   "id": "5d2a61825e3de434",
   "outputs": [],
   "execution_count": 9
  },
  {
   "metadata": {
    "ExecuteTime": {
     "end_time": "2025-04-05T11:22:11.175630Z",
     "start_time": "2025-04-05T11:22:11.172117Z"
    }
   },
   "cell_type": "code",
   "source": [
    "# MQTT Energy computation using Raspberry Pi as Broker\n",
    "# Temperature sensor sequence: Connect -> ConnectACK -> Publish iteration every 5 minutes and every minute Ping Request is sent and acknowledged\n",
    "E_Sensor = E_Connection_Sequence + E_Sensor_Publish_TX + E_KeepAlive # Joule\n",
    "\n",
    "# Valve sequence: ConnectReq -> Connect ACK -> Subscribe -> Subscribe ACK -> Publish iteration every 5 minutes; every 30 minutes compute average and every minute Ping Request is sent and acknowledged\n",
    "E_Valve = E_Connection_Sequence + E_Subscribe_TX + E_SubscribeACK_RX + E_Sensor_Publish_RX + E_Average_Computation + E_KeepAlive # Joule\n",
    "\n",
    "# Total energy consumption\n",
    "E_tot = E_Sensor + E_Valve # Joule"
   ],
   "id": "2af0a7a500a2e2c0",
   "outputs": [],
   "execution_count": 10
  },
  {
   "metadata": {
    "ExecuteTime": {
     "end_time": "2025-04-05T11:22:11.203571Z",
     "start_time": "2025-04-05T11:22:11.200536Z"
    }
   },
   "cell_type": "code",
   "source": [
    "# Print results\n",
    "print(\"E_Sensor: %.3f mJ\" % (E_Sensor * 10 ** 3))\n",
    "print(\"E_Valve: %.3f mJ\" % (E_Valve * 10 ** 3))\n",
    "print(\"E_tot: %.3f mJ\" % (E_tot * 10 ** 3))"
   ],
   "id": "88350960301d546b",
   "outputs": [
    {
     "name": "stdout",
     "output_type": "stream",
     "text": [
      "E_Sensor: 69.901 mJ\n",
      "E_Valve: 186.401 mJ\n",
      "E_tot: 256.302 mJ\n"
     ]
    }
   ],
   "execution_count": 11
  },
  {
   "metadata": {},
   "cell_type": "markdown",
   "source": "### Optimization proposals",
   "id": "963656fb15618236"
  },
  {
   "metadata": {},
   "cell_type": "markdown",
   "source": [
    "1° optimization proposal:\n",
    "\n",
    "Remove liveness constraints (PING REQUEST and PING RESPONSE pair)"
   ],
   "id": "aab47f30331cfc83"
  },
  {
   "metadata": {
    "ExecuteTime": {
     "end_time": "2025-04-05T11:22:11.229590Z",
     "start_time": "2025-04-05T11:22:11.225788Z"
    }
   },
   "cell_type": "code",
   "source": [
    "# Energy computation\n",
    "E_Sensor = E_Connection_Sequence + E_Sensor_Publish_TX # Joule\n",
    "E_Valve = E_Connection_Sequence + E_Subscribe_TX + E_SubscribeACK_RX + E_Sensor_Publish_RX + E_Average_Computation # Joule\n",
    "\n",
    "# Total energy consumption\n",
    "E_tot = E_Sensor + E_Valve # Joule\n",
    "\n",
    "# Print results\n",
    "print(\"E_Sensor: %.3f mJ\" % (E_Sensor * 10 ** 3))\n",
    "print(\"E_Valve: %.3f mJ\" % (E_Valve * 10 ** 3))\n",
    "print(\"E_tot: %.3f mJ\" % (E_tot * 10 ** 3))"
   ],
   "id": "fbc8342f0d3a1dce",
   "outputs": [
    {
     "name": "stdout",
     "output_type": "stream",
     "text": [
      "E_Sensor: 7.877 mJ\n",
      "E_Valve: 124.378 mJ\n",
      "E_tot: 132.255 mJ\n"
     ]
    }
   ],
   "execution_count": 12
  },
  {
   "metadata": {},
   "cell_type": "markdown",
   "source": [
    "1-bis optimization proposal:\n",
    "\n",
    "Remove liveness constraints (PING REQUEST and PING RESPONSE pair)\n",
    "\n",
    "and\n",
    "\n",
    "Reduce time boundaries: a new temperature measurement is sent every 15 minutes and average is computed every 45 minutes"
   ],
   "id": "a3fbb755e0307cd1"
  },
  {
   "metadata": {
    "ExecuteTime": {
     "end_time": "2025-04-05T11:22:11.268895Z",
     "start_time": "2025-04-05T11:22:11.265586Z"
    }
   },
   "cell_type": "code",
   "source": [
    "# Time boundaries optimization\n",
    "Valve_Cycles_Optimized = (MINUTES_PER_HOUR / 45.0) * HOURS_PER_DAY\n",
    "Sensor_Cycles_Optimized = (MINUTES_PER_HOUR / 15.0) * HOURS_PER_DAY"
   ],
   "id": "b7881378f974fed0",
   "outputs": [],
   "execution_count": 13
  },
  {
   "metadata": {
    "ExecuteTime": {
     "end_time": "2025-04-05T11:22:11.277838Z",
     "start_time": "2025-04-05T11:22:11.274249Z"
    }
   },
   "cell_type": "code",
   "source": [
    "# Energy computation\n",
    "E_Sensor = E_Connection_Sequence + (PUBLISH * E_TX) * Sensor_Cycles_Optimized # Joule\n",
    "E_Valve = E_Connection_Sequence + E_Subscribe_TX + E_SubscribeACK_RX + (PUBLISH * E_RX) * Sensor_Cycles_Optimized + E_Valve_Average_Computation * Valve_Cycles_Optimized # Joule\n",
    "\n",
    "# Total energy consumption\n",
    "E_tot = E_Sensor + E_Valve # Joule\n",
    "\n",
    "# Print results\n",
    "print(\"E_Sensor: %.3f mJ\" % (E_Sensor * 10 ** 3))\n",
    "print(\"E_Valve: %.3f mJ\" % (E_Valve * 10 ** 3))\n",
    "print(\"E_tot: %.3f mJ\" % (E_tot * 10 ** 3))"
   ],
   "id": "f9b54749e006f929",
   "outputs": [
    {
     "name": "stdout",
     "output_type": "stream",
     "text": [
      "E_Sensor: 2.655 mJ\n",
      "E_Valve: 79.920 mJ\n",
      "E_tot: 82.574 mJ\n"
     ]
    }
   ],
   "execution_count": 14
  },
  {
   "metadata": {},
   "cell_type": "markdown",
   "source": [
    "2° optimization proposal:\n",
    "\n",
    "A versioning system: store the result of the previously-computed average on the Raspberry Pi and publish a new message only for significative temperature variations.\n",
    "\n",
    "In the following, a meaningful change is assumed to be present on one message over two."
   ],
   "id": "e67e9134d7ae52f0"
  },
  {
   "metadata": {
    "ExecuteTime": {
     "end_time": "2025-04-05T11:22:11.301911Z",
     "start_time": "2025-04-05T11:22:11.298750Z"
    }
   },
   "cell_type": "code",
   "source": [
    "# Set up computation\n",
    "E_Broker_Store_Average = ((PUBLISH * Valve_Cycles_Per_Day) / 2 * E_RX)"
   ],
   "id": "59f37e4430eb31f7",
   "outputs": [],
   "execution_count": 15
  },
  {
   "metadata": {
    "ExecuteTime": {
     "end_time": "2025-04-05T11:22:11.326933Z",
     "start_time": "2025-04-05T11:22:11.320875Z"
    }
   },
   "cell_type": "code",
   "source": [
    "# Energy computation\n",
    "E_Sensor = E_Connection_Sequence + E_Sensor_Publish_TX + E_KeepAlive # Joule\n",
    "E_Valve = E_Connection_Sequence + E_Subscribe_TX + E_SubscribeACK_RX + E_Broker_Store_Average + E_KeepAlive # Joule\n",
    "\n",
    "E_tot = E_Sensor + E_Valve # Joule\n",
    "\n",
    "# Print results\n",
    "print(\"E_Sensor: %.3f mJ\" % (E_Sensor * 10 ** 3))\n",
    "print(\"E_Valve: %.3f mJ\" % (E_Valve * 10 ** 3))\n",
    "print(\"E_tot: %.3f mJ\" % (E_tot * 10 ** 3))"
   ],
   "id": "7e4ba8f63c937a4f",
   "outputs": [
    {
     "name": "stdout",
     "output_type": "stream",
     "text": [
      "E_Sensor: 69.901 mJ\n",
      "E_Valve: 62.872 mJ\n",
      "E_tot: 132.772 mJ\n"
     ]
    }
   ],
   "execution_count": 16
  },
  {
   "metadata": {},
   "cell_type": "markdown",
   "source": [
    "2-bis optimization proposal:\n",
    "\n",
    "A versioning system: store the result of the previously-computed average on the Raspberry Pi and publish a new message only for significative temperature variations.\n",
    "\n",
    "and\n",
    "\n",
    "Reduce time boundaries: a new temperature measurement is sent every 15 minutes and average is computed every 45 minutes\n",
    "\n",
    "In the following, a meaningful change is assumed to be present on one message over two."
   ],
   "id": "6098b6162535ac16"
  },
  {
   "metadata": {
    "ExecuteTime": {
     "end_time": "2025-04-05T11:22:11.351805Z",
     "start_time": "2025-04-05T11:22:11.348584Z"
    }
   },
   "cell_type": "code",
   "source": [
    "# Time boundaries optimization\n",
    "Valve_Cycles_Optimized = (MINUTES_PER_HOUR / 45.0) * HOURS_PER_DAY\n",
    "Sensor_Cycles_Optimized = (MINUTES_PER_HOUR / 15.0) * HOURS_PER_DAY"
   ],
   "id": "914736c9967ad8dd",
   "outputs": [],
   "execution_count": 17
  },
  {
   "metadata": {
    "ExecuteTime": {
     "end_time": "2025-04-05T11:22:11.371844Z",
     "start_time": "2025-04-05T11:22:11.368688Z"
    }
   },
   "cell_type": "code",
   "source": [
    "# Set up computation\n",
    "E_Broker_Shift_Average_Sub = ((PUBLISH * Valve_Cycles_Optimized) / 2 * E_RX)"
   ],
   "id": "ab30e876c675aeb9",
   "outputs": [],
   "execution_count": 18
  },
  {
   "metadata": {
    "ExecuteTime": {
     "end_time": "2025-04-05T11:22:11.392760Z",
     "start_time": "2025-04-05T11:22:11.389528Z"
    }
   },
   "cell_type": "code",
   "source": [
    "# Energy computation\n",
    "E_Sensor = E_Connection_Sequence + (PUBLISH * E_TX) * Sensor_Cycles_Optimized + E_KeepAlive # Joule\n",
    "E_Valve = E_Connection_Sequence + E_Subscribe_TX + E_SubscribeACK_RX + E_Broker_Shift_Average_Sub + E_KeepAlive # Joule\n",
    "\n",
    "E_tot = E_Sensor + E_Valve # Joule\n",
    "\n",
    "# Print Results\n",
    "print(\"E_Sensor: %.3f mJ\" % (E_Sensor * 10 ** 3))\n",
    "print(\"E_Valve: %.3f mJ\" % (E_Valve * 10 ** 3))\n",
    "print(\"E_tot: %.3f mJ\" % (E_tot * 10 ** 3))"
   ],
   "id": "9bf142c5c7a2488e",
   "outputs": [
    {
     "name": "stdout",
     "output_type": "stream",
     "text": [
      "E_Sensor: 64.678 mJ\n",
      "E_Valve: 62.619 mJ\n",
      "E_tot: 127.298 mJ\n"
     ]
    }
   ],
   "execution_count": 19
  },
  {
   "metadata": {},
   "cell_type": "markdown",
   "source": [
    "A complete merge:\n",
    "\n",
    "Remove liveness constraints (PING REQUEST and PING RESPONSE pair)\n",
    "\n",
    "and\n",
    "\n",
    "A versioning system: store the result of the previously-computed average on the Raspberry Pi and publish a new message only for significative temperature variations.\n",
    "\n",
    "and\n",
    "\n",
    "Reduce time boundaries: a new temperature measurement is sent every 15 minutes and average is computed every 45 minutes\n",
    "\n",
    "In the following, a meaningful change is assumed to be present on one message over two."
   ],
   "id": "162cbc6496685411"
  },
  {
   "metadata": {
    "ExecuteTime": {
     "end_time": "2025-04-05T11:22:11.415952Z",
     "start_time": "2025-04-05T11:22:11.411894Z"
    }
   },
   "cell_type": "code",
   "source": [
    "# Time boundaries optimization\n",
    "Valve_Cycles_Optimized = (MINUTES_PER_HOUR / 45.0) * HOURS_PER_DAY\n",
    "Sensor_Cycles_Optimized = (MINUTES_PER_HOUR / 15.0) * HOURS_PER_DAY"
   ],
   "id": "3bf7ab294c27c378",
   "outputs": [],
   "execution_count": 20
  },
  {
   "metadata": {
    "ExecuteTime": {
     "end_time": "2025-04-05T11:22:11.435776Z",
     "start_time": "2025-04-05T11:22:11.432591Z"
    }
   },
   "cell_type": "code",
   "source": [
    "# Set up computation\n",
    "E_Broker_Shift_Average_Sub = ((PUBLISH * Valve_Cycles_Optimized) / 2 * E_RX)"
   ],
   "id": "88e16158b5988962",
   "outputs": [],
   "execution_count": 21
  },
  {
   "metadata": {
    "ExecuteTime": {
     "end_time": "2025-04-05T11:22:11.459875Z",
     "start_time": "2025-04-05T11:22:11.455725Z"
    }
   },
   "cell_type": "code",
   "source": [
    "# Energy computation\n",
    "E_Sensor = E_Connection_Sequence + (PUBLISH * E_TX) * Sensor_Cycles_Optimized # Joule\n",
    "E_Valve = E_Connection_Sequence + E_Subscribe_TX + E_SubscribeACK_RX + E_Broker_Shift_Average_Sub # Joule\n",
    "\n",
    "E_tot = E_Sensor + E_Valve # Joule\n",
    "\n",
    "# Print Results\n",
    "print(\"E_Sensor: %.3f mJ\" % (E_Sensor * 10 ** 3))\n",
    "print(\"E_Valve: %.3f mJ\" % (E_Valve * 10 ** 3))\n",
    "print(\"E_tot: %.3f mJ\" % (E_tot * 10 ** 3))"
   ],
   "id": "86934afceec88f5a",
   "outputs": [
    {
     "name": "stdout",
     "output_type": "stream",
     "text": [
      "E_Sensor: 2.655 mJ\n",
      "E_Valve: 0.596 mJ\n",
      "E_tot: 3.250 mJ\n"
     ]
    }
   ],
   "execution_count": 22
  }
 ],
 "metadata": {
  "kernelspec": {
   "display_name": "Python 3",
   "language": "python",
   "name": "python3"
  },
  "language_info": {
   "codemirror_mode": {
    "name": "ipython",
    "version": 2
   },
   "file_extension": ".py",
   "mimetype": "text/x-python",
   "name": "python",
   "nbconvert_exporter": "python",
   "pygments_lexer": "ipython2",
   "version": "2.7.6"
  }
 },
 "nbformat": 4,
 "nbformat_minor": 5
}
