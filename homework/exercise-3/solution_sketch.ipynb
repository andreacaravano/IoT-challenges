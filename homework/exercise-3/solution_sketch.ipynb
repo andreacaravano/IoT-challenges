{
 "cells": [
  {
   "cell_type": "markdown",
   "id": "c59755d3",
   "metadata": {},
   "source": [
    "# **Politecnico di Milano**\n",
    "## *Students: Caravano Andrea, Cantele Alberto*\n",
    "\n",
    "*A.Y.: 2024/2025*\n",
    "\n",
    "*Last modified: 20/05/2025*\n",
    "\n",
    "### Description: Internet of Things: Homework - exercise n. 3"
   ]
  },
  {
   "cell_type": "markdown",
   "id": "e2e5695b",
   "metadata": {},
   "source": [
    "### Common libraries import and problem data"
   ]
  },
  {
   "cell_type": "code",
   "execution_count": 1,
   "id": "78b18abddb515cb7",
   "metadata": {
    "ExecuteTime": {
     "end_time": "2025-05-19T13:19:45.143744Z",
     "start_time": "2025-05-19T13:19:45.140620Z"
    }
   },
   "outputs": [],
   "source": [
    "import math\n",
    "from math import factorial\n",
    "from scipy.special import factorial\n",
    "import matplotlib.pyplot as plt"
   ]
  },
  {
   "cell_type": "code",
   "execution_count": 2,
   "id": "initial_id",
   "metadata": {
    "ExecuteTime": {
     "end_time": "2025-05-19T13:19:45.154170Z",
     "start_time": "2025-05-19T13:19:45.152237Z"
    },
    "collapsed": true
   },
   "outputs": [],
   "source": [
    "N_tags = 4\n",
    "L1 = 1\n",
    "L2 = 4\n",
    "L3 = 51 / 8\n",
    "efficiencies = []"
   ]
  },
  {
   "cell_type": "markdown",
   "id": "3b6d441b72e12842",
   "metadata": {},
   "source": [
    "## Computing L<sub>4</sub> (recursive formula)"
   ]
  },
  {
   "cell_type": "code",
   "execution_count": 3,
   "id": "57014ae2974b5345",
   "metadata": {
    "ExecuteTime": {
     "end_time": "2025-05-19T13:19:45.163907Z",
     "start_time": "2025-05-19T13:19:45.161555Z"
    }
   },
   "outputs": [],
   "source": [
    "r4 = 4\n",
    "prob_r4 = (1 / r4) ** N_tags\n",
    "comb_binom_4_2 = factorial(N_tags) / (factorial(r4 - 2) * factorial(N_tags - (r4 - 2)))\n",
    "\n",
    "P_S0 = prob_r4 * (r4 + comb_binom_4_2 * factorial(r4) / (2 * 2))\n",
    "P_S1 = prob_r4 * r4 * r4 * (r4 - 1)\n",
    "P_S2 = prob_r4 * factorial(r4) * comb_binom_4_2\n",
    "P_S3 = 0\n",
    "P_S4 = prob_r4 * factorial(r4)"
   ]
  },
  {
   "cell_type": "code",
   "execution_count": 4,
   "id": "49ae4b0ebbea92fc",
   "metadata": {
    "ExecuteTime": {
     "end_time": "2025-05-19T13:19:45.174576Z",
     "start_time": "2025-05-19T13:19:45.171639Z"
    }
   },
   "outputs": [
    {
     "name": "stdout",
     "output_type": "stream",
     "text": [
      "8.824074074074074\n"
     ]
    }
   ],
   "source": [
    "assert math.isclose(\n",
    "    P_S0 + P_S1 + P_S2 + P_S3 + P_S4, 1.0, rel_tol=1e-6\n",
    ")  # accounts for floating point representation imprecisions\n",
    "\n",
    "L4 = (r4 + P_S1 * L3 + P_S2 * L2) / (1 - P_S0)\n",
    "print(L4)"
   ]
  },
  {
   "cell_type": "markdown",
   "id": "d1f0d27f43bf5899",
   "metadata": {},
   "source": [
    "## Case r<sub>1</sub> = 1"
   ]
  },
  {
   "cell_type": "code",
   "execution_count": 5,
   "id": "23ae0cac71576abf",
   "metadata": {
    "ExecuteTime": {
     "end_time": "2025-05-19T13:19:45.189287Z",
     "start_time": "2025-05-19T13:19:45.187387Z"
    }
   },
   "outputs": [],
   "source": [
    "r1 = 1\n",
    "prob_r1 = (1 / r1) ** N_tags\n",
    "\n",
    "P_S0 = 1\n",
    "P_S1 = 0\n",
    "P_S2 = 0\n",
    "P_S3 = 0\n",
    "P_S4 = 0"
   ]
  },
  {
   "cell_type": "code",
   "execution_count": 6,
   "id": "60e6d39c46fb3c1b",
   "metadata": {
    "ExecuteTime": {
     "end_time": "2025-05-19T13:19:45.203271Z",
     "start_time": "2025-05-19T13:19:45.200869Z"
    }
   },
   "outputs": [
    {
     "name": "stdout",
     "output_type": "stream",
     "text": [
      "9.824074074074074\n"
     ]
    }
   ],
   "source": [
    "assert math.isclose(\n",
    "    P_S0 + P_S1 + P_S2 + P_S3 + P_S4, 1.0, rel_tol=1e-6\n",
    ")  # accounts for floating point representation imprecisions\n",
    "\n",
    "L = r1 + P_S0 * L4\n",
    "print(L)"
   ]
  },
  {
   "cell_type": "code",
   "execution_count": 7,
   "id": "5c925d149628f07b",
   "metadata": {
    "ExecuteTime": {
     "end_time": "2025-05-19T13:19:45.216586Z",
     "start_time": "2025-05-19T13:19:45.214010Z"
    }
   },
   "outputs": [
    {
     "name": "stdout",
     "output_type": "stream",
     "text": [
      "0.4071630537229029\n"
     ]
    }
   ],
   "source": [
    "efficiency = N_tags / L\n",
    "efficiencies.append(efficiency)\n",
    "print(efficiency)"
   ]
  },
  {
   "cell_type": "markdown",
   "id": "356547a64df67436",
   "metadata": {},
   "source": [
    "## Case r<sub>1</sub> = 2"
   ]
  },
  {
   "cell_type": "code",
   "execution_count": 8,
   "id": "db51b5831183f701",
   "metadata": {
    "ExecuteTime": {
     "end_time": "2025-05-19T13:19:45.231041Z",
     "start_time": "2025-05-19T13:19:45.228560Z"
    }
   },
   "outputs": [],
   "source": [
    "r1 = 2\n",
    "comb_binom_4_2 = factorial(N_tags) / (factorial(r1) * factorial(N_tags - r1))\n",
    "prob_r1 = (1 / r1) ** N_tags\n",
    "\n",
    "P_S0 = prob_r1 * (r1 + comb_binom_4_2)\n",
    "P_S1 = prob_r1 * N_tags * r1\n",
    "P_S2 = 0\n",
    "P_S3 = 0\n",
    "P_S4 = 0"
   ]
  },
  {
   "cell_type": "code",
   "execution_count": 9,
   "id": "3dca004b97fa4ec8",
   "metadata": {
    "ExecuteTime": {
     "end_time": "2025-05-19T13:19:45.238979Z",
     "start_time": "2025-05-19T13:19:45.236773Z"
    }
   },
   "outputs": [
    {
     "name": "stdout",
     "output_type": "stream",
     "text": [
      "9.599537037037038\n"
     ]
    }
   ],
   "source": [
    "assert math.isclose(\n",
    "    P_S0 + P_S1 + P_S2 + P_S3 + P_S4, 1.0, rel_tol=1e-6\n",
    ")  # accounts for floating point representation imprecisions\n",
    "\n",
    "L = r1 + P_S0 * L4 + P_S1 * L3\n",
    "print(L)"
   ]
  },
  {
   "cell_type": "code",
   "execution_count": 10,
   "id": "2b93ab182bfc360e",
   "metadata": {
    "ExecuteTime": {
     "end_time": "2025-05-19T13:19:45.315198Z",
     "start_time": "2025-05-19T13:19:45.312484Z"
    }
   },
   "outputs": [
    {
     "name": "stdout",
     "output_type": "stream",
     "text": [
      "0.4166867615143477\n"
     ]
    }
   ],
   "source": [
    "efficiency = N_tags / L\n",
    "efficiencies.append(efficiency)\n",
    "print(efficiency)"
   ]
  },
  {
   "cell_type": "markdown",
   "id": "1d67f5cb4b7f467c",
   "metadata": {},
   "source": [
    "## Case r<sub>1</sub> = 3"
   ]
  },
  {
   "cell_type": "code",
   "execution_count": 11,
   "id": "80897d5762329d3e",
   "metadata": {
    "ExecuteTime": {
     "end_time": "2025-05-19T13:19:45.334191Z",
     "start_time": "2025-05-19T13:19:45.330722Z"
    }
   },
   "outputs": [],
   "source": [
    "r1 = 3\n",
    "prob_r1 = (1 / r1) ** N_tags\n",
    "\n",
    "P_S0 = prob_r1 * (r1 + (comb_binom_4_2 * factorial(r1)) / 2)  # simmetry\n",
    "P_S1 = prob_r1 * (N_tags * factorial(r1))\n",
    "P_S2 = prob_r1 * comb_binom_4_2 * factorial(r1)\n",
    "P_S3 = 0\n",
    "P_S4 = 0"
   ]
  },
  {
   "cell_type": "code",
   "execution_count": 12,
   "id": "1d2162c8ba63ea6e",
   "metadata": {
    "ExecuteTime": {
     "end_time": "2025-05-19T13:19:45.347230Z",
     "start_time": "2025-05-19T13:19:45.344721Z"
    }
   },
   "outputs": [
    {
     "name": "stdout",
     "output_type": "stream",
     "text": [
      "8.954389574759944\n"
     ]
    }
   ],
   "source": [
    "assert math.isclose(\n",
    "    P_S0 + P_S1 + P_S2 + P_S3 + P_S4, 1.0, rel_tol=1e-6\n",
    ")  # accounts for floating point representation imprecisions\n",
    "\n",
    "L = r1 + P_S0 * L4 + P_S1 * L3 + P_S2 * L2\n",
    "print(L)"
   ]
  },
  {
   "cell_type": "code",
   "execution_count": 13,
   "id": "b2953cf4d9307431",
   "metadata": {
    "ExecuteTime": {
     "end_time": "2025-05-19T13:19:45.365242Z",
     "start_time": "2025-05-19T13:19:45.362916Z"
    }
   },
   "outputs": [
    {
     "name": "stdout",
     "output_type": "stream",
     "text": [
      "0.4467082838650378\n"
     ]
    }
   ],
   "source": [
    "efficiency = N_tags / L\n",
    "efficiencies.append(efficiency)\n",
    "print(efficiency)"
   ]
  },
  {
   "cell_type": "markdown",
   "id": "6da0e47baf091603",
   "metadata": {},
   "source": [
    "## Case r<sub>1</sub> = 4 (recursive formula applies)"
   ]
  },
  {
   "cell_type": "code",
   "execution_count": 14,
   "id": "8420c479c8bb31c7",
   "metadata": {
    "ExecuteTime": {
     "end_time": "2025-05-19T13:19:45.376968Z",
     "start_time": "2025-05-19T13:19:45.374421Z"
    }
   },
   "outputs": [],
   "source": [
    "r1 = 4\n",
    "prob_r1 = (1 / r1) ** N_tags\n",
    "\n",
    "P_S0 = prob_r1 * (r1 + (comb_binom_4_2 * r1 * (r1 - 1)) / 2)\n",
    "P_S1 = prob_r1 * r1 * N_tags * (r1 - 1)\n",
    "P_S2 = prob_r1 * (comb_binom_4_2 * r1 * (r1 - 1) * (r1 - 2) * 2) / 2\n",
    "P_S3 = 0\n",
    "P_S4 = prob_r1 * factorial(r1)"
   ]
  },
  {
   "cell_type": "code",
   "execution_count": 15,
   "id": "20e8b34e431810ff",
   "metadata": {
    "ExecuteTime": {
     "end_time": "2025-05-19T13:19:45.393926Z",
     "start_time": "2025-05-19T13:19:45.390988Z"
    }
   },
   "outputs": [
    {
     "name": "stdout",
     "output_type": "stream",
     "text": [
      "8.824074074074074\n"
     ]
    }
   ],
   "source": [
    "assert math.isclose(\n",
    "    P_S0 + P_S1 + P_S2 + P_S3 + P_S4, 1.0, rel_tol=1e-6\n",
    ")  # accounts for floating point representation imprecisions\n",
    "\n",
    "L = (r1 + P_S1 * L3 + P_S2 * L2) / (1 - P_S0)\n",
    "print(L)"
   ]
  },
  {
   "cell_type": "code",
   "execution_count": 16,
   "id": "8ccb48574bd0f169",
   "metadata": {
    "ExecuteTime": {
     "end_time": "2025-05-19T13:19:45.411158Z",
     "start_time": "2025-05-19T13:19:45.408932Z"
    }
   },
   "outputs": [
    {
     "name": "stdout",
     "output_type": "stream",
     "text": [
      "0.453305351521511\n"
     ]
    }
   ],
   "source": [
    "efficiency = N_tags / L\n",
    "efficiencies.append(efficiency)\n",
    "print(efficiency)"
   ]
  },
  {
   "cell_type": "markdown",
   "id": "2c384f89e8e7fccd",
   "metadata": {},
   "source": [
    "## Case r<sub>1</sub> = 5"
   ]
  },
  {
   "cell_type": "code",
   "execution_count": 17,
   "id": "adffe82618c3dcb9",
   "metadata": {
    "ExecuteTime": {
     "end_time": "2025-05-19T13:19:45.434969Z",
     "start_time": "2025-05-19T13:19:45.430897Z"
    }
   },
   "outputs": [],
   "source": [
    "r1 = 5\n",
    "prob_r1 = (1 / r1) ** N_tags\n",
    "\n",
    "P_S0 = prob_r1 * (r1 + (comb_binom_4_2 * r1 * (r1 - 1)) / 2)\n",
    "P_S1 = prob_r1 * r1 * N_tags * (r1 - 1)\n",
    "P_S2 = prob_r1 * (comb_binom_4_2 * r1 * (r1 - 1) * (r1 - 2) * 2) / 2\n",
    "P_S3 = 0\n",
    "P_S4 = prob_r1 * factorial(N_tags) * r1"
   ]
  },
  {
   "cell_type": "code",
   "execution_count": 18,
   "id": "5a5349098298e955",
   "metadata": {
    "ExecuteTime": {
     "end_time": "2025-05-19T13:19:45.450984Z",
     "start_time": "2025-05-19T13:19:45.448144Z"
    }
   },
   "outputs": [
    {
     "name": "stdout",
     "output_type": "stream",
     "text": [
      "9.037703703703704\n"
     ]
    }
   ],
   "source": [
    "assert math.isclose(\n",
    "    P_S0 + P_S1 + P_S2 + P_S3 + P_S4, 1.0, rel_tol=1e-6\n",
    ")  # accounts for floating point representation imprecisions\n",
    "\n",
    "L = r1 + P_S0 * L4 + P_S1 * L3 + P_S2 * L2\n",
    "print(L)"
   ]
  },
  {
   "cell_type": "code",
   "execution_count": 19,
   "id": "faacd4a0114f0689",
   "metadata": {
    "ExecuteTime": {
     "end_time": "2025-05-19T13:19:45.469856Z",
     "start_time": "2025-05-19T13:19:45.466617Z"
    }
   },
   "outputs": [
    {
     "name": "stdout",
     "output_type": "stream",
     "text": [
      "0.44259030071552097\n"
     ]
    }
   ],
   "source": [
    "efficiency = N_tags / L\n",
    "efficiencies.append(efficiency)\n",
    "print(efficiency)"
   ]
  },
  {
   "cell_type": "markdown",
   "id": "9865c6ef72ec00d9",
   "metadata": {},
   "source": [
    "## Case r<sub>1</sub> = 6"
   ]
  },
  {
   "cell_type": "code",
   "execution_count": 20,
   "id": "21058cd313824de",
   "metadata": {
    "ExecuteTime": {
     "end_time": "2025-05-19T13:19:45.485789Z",
     "start_time": "2025-05-19T13:19:45.483637Z"
    }
   },
   "outputs": [],
   "source": [
    "r1 = 6\n",
    "comb_binom_6_2 = factorial(r1) / (factorial(r1 - 4) * factorial(r1 - r1 + 4))\n",
    "prob_r1 = (1 / r1) ** N_tags\n",
    "\n",
    "P_S0 = prob_r1 * (r1 + (comb_binom_4_2 * r1 * (r1 - 1)) / 2)\n",
    "P_S1 = prob_r1 * r1 * N_tags * (r1 - 1)\n",
    "P_S2 = prob_r1 * (r1 * N_tags * (N_tags - 1) * (r1 - 1) * (r1 - 2)) / 2\n",
    "P_S3 = 0\n",
    "P_S4 = prob_r1 * comb_binom_6_2 * factorial(r1 - 2)"
   ]
  },
  {
   "cell_type": "code",
   "execution_count": 21,
   "id": "47025a48537101e7",
   "metadata": {
    "ExecuteTime": {
     "end_time": "2025-05-19T13:19:45.499884Z",
     "start_time": "2025-05-19T13:19:45.497195Z"
    }
   },
   "outputs": [
    {
     "name": "stdout",
     "output_type": "stream",
     "text": [
      "9.466135116598078\n"
     ]
    }
   ],
   "source": [
    "assert math.isclose(\n",
    "    P_S0 + P_S1 + P_S2 + P_S3 + P_S4, 1.0, rel_tol=1e-6\n",
    ")  # accounts for floating point representation imprecisions\n",
    "\n",
    "L = r1 + P_S0 * L4 + P_S1 * L3 + P_S2 * L2\n",
    "print(L)"
   ]
  },
  {
   "cell_type": "code",
   "execution_count": 22,
   "id": "c8534fabf854d79f",
   "metadata": {
    "ExecuteTime": {
     "end_time": "2025-05-19T13:19:45.513563Z",
     "start_time": "2025-05-19T13:19:45.511083Z"
    }
   },
   "outputs": [
    {
     "name": "stdout",
     "output_type": "stream",
     "text": [
      "0.42255893780623666\n"
     ]
    }
   ],
   "source": [
    "efficiency = N_tags / L\n",
    "efficiencies.append(efficiency)\n",
    "print(efficiency)"
   ]
  },
  {
   "cell_type": "markdown",
   "id": "2bb1df5712db588b",
   "metadata": {},
   "source": [
    "## Efficiency plot"
   ]
  },
  {
   "cell_type": "code",
   "execution_count": 23,
   "id": "7cd94d98",
   "metadata": {},
   "outputs": [],
   "source": [
    "labels = [i for i in range(1, len(efficiencies) + 1)]\n",
    "\n",
    "f = plt.figure(dpi=300)  # higher resolution plot\n",
    "\n",
    "plt.plot(labels, efficiencies)\n",
    "plt.xlabel(\"Initial frame size r₁\")\n",
    "plt.ylabel(\"Efficiency η\")\n",
    "plt.title(\"Efficiency over values of initial frame size\")\n",
    "plt.grid()\n",
    "plt.savefig(\"hr-plot.png\")\n",
    "plt.close(f)"
   ]
  },
  {
   "cell_type": "code",
   "execution_count": 24,
   "id": "28b9fd163f7e4a6f",
   "metadata": {
    "ExecuteTime": {
     "end_time": "2025-05-19T13:19:45.597475Z",
     "start_time": "2025-05-19T13:19:45.526255Z"
    }
   },
   "outputs": [
    {
     "data": {
      "image/png": "[encoded data removed]",
      "text/plain": [
       "<Figure size 640x480 with 1 Axes>"
      ]
     },
     "metadata": {},
     "output_type": "display_data"
    }
   ],
   "source": [
    "plt.plot(labels, efficiencies)\n",
    "plt.xlabel(\"Initial frame size r₁\")\n",
    "plt.ylabel(\"Efficiency η\")\n",
    "plt.title(\"Efficiency over values of initial frame size\")\n",
    "plt.grid()\n",
    "plt.show()"
   ]
  }
 ],
 "metadata": {
  "kernelspec": {
   "display_name": "base",
   "language": "python",
   "name": "python3"
  },
  "language_info": {
   "codemirror_mode": {
    "name": "ipython",
    "version": 3
   },
   "file_extension": ".py",
   "mimetype": "text/x-python",
   "name": "python",
   "nbconvert_exporter": "python",
   "pygments_lexer": "ipython3",
   "version": "3.12.10"
  }
 },
 "nbformat": 4,
 "nbformat_minor": 5
}
